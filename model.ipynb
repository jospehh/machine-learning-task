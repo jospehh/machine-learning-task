{
 "cells": [
  {
   "cell_type": "markdown",
   "id": "65fa3c17",
   "metadata": {},
   "source": [
    "#  Solution (using KNN classification)"
   ]
  },
  {
   "cell_type": "code",
   "execution_count": 1,
   "id": "e22a9529",
   "metadata": {},
   "outputs": [],
   "source": [
    "# importing the libraries\n",
    "import numpy as np\n",
    "import pandas as pd\n",
    "import matplotlib.pyplot as plt\n",
    "import seaborn as sns"
   ]
  },
  {
   "cell_type": "code",
   "execution_count": 2,
   "id": "7e110f23",
   "metadata": {},
   "outputs": [],
   "source": [
    "df = pd.read_excel('robot.xlsx')"
   ]
  },
  {
   "cell_type": "code",
   "execution_count": 3,
   "id": "42358463",
   "metadata": {
    "scrolled": true
   },
   "outputs": [
    {
     "data": {
      "text/html": [
       "<div>\n",
       "<style scoped>\n",
       "    .dataframe tbody tr th:only-of-type {\n",
       "        vertical-align: middle;\n",
       "    }\n",
       "\n",
       "    .dataframe tbody tr th {\n",
       "        vertical-align: top;\n",
       "    }\n",
       "\n",
       "    .dataframe thead th {\n",
       "        text-align: right;\n",
       "    }\n",
       "</style>\n",
       "<table border=\"1\" class=\"dataframe\">\n",
       "  <thead>\n",
       "    <tr style=\"text-align: right;\">\n",
       "      <th></th>\n",
       "      <th>r_number</th>\n",
       "      <th>speed (m/s)</th>\n",
       "      <th>weight (kg)</th>\n",
       "      <th>qualified</th>\n",
       "    </tr>\n",
       "  </thead>\n",
       "  <tbody>\n",
       "    <tr>\n",
       "      <th>0</th>\n",
       "      <td>1</td>\n",
       "      <td>2.50</td>\n",
       "      <td>600</td>\n",
       "      <td>No</td>\n",
       "    </tr>\n",
       "    <tr>\n",
       "      <th>1</th>\n",
       "      <td>2</td>\n",
       "      <td>3.75</td>\n",
       "      <td>800</td>\n",
       "      <td>No</td>\n",
       "    </tr>\n",
       "    <tr>\n",
       "      <th>2</th>\n",
       "      <td>3</td>\n",
       "      <td>2.25</td>\n",
       "      <td>550</td>\n",
       "      <td>No</td>\n",
       "    </tr>\n",
       "    <tr>\n",
       "      <th>3</th>\n",
       "      <td>4</td>\n",
       "      <td>3.25</td>\n",
       "      <td>825</td>\n",
       "      <td>No</td>\n",
       "    </tr>\n",
       "    <tr>\n",
       "      <th>4</th>\n",
       "      <td>5</td>\n",
       "      <td>2.75</td>\n",
       "      <td>750</td>\n",
       "      <td>No</td>\n",
       "    </tr>\n",
       "  </tbody>\n",
       "</table>\n",
       "</div>"
      ],
      "text/plain": [
       "   r_number  speed (m/s)  weight (kg) qualified\n",
       "0         1         2.50          600        No\n",
       "1         2         3.75          800        No\n",
       "2         3         2.25          550        No\n",
       "3         4         3.25          825        No\n",
       "4         5         2.75          750        No"
      ]
     },
     "execution_count": 3,
     "metadata": {},
     "output_type": "execute_result"
    }
   ],
   "source": [
    "df.head()"
   ]
  },
  {
   "cell_type": "code",
   "execution_count": 4,
   "id": "25c09cb6",
   "metadata": {},
   "outputs": [
    {
     "data": {
      "text/html": [
       "<div>\n",
       "<style scoped>\n",
       "    .dataframe tbody tr th:only-of-type {\n",
       "        vertical-align: middle;\n",
       "    }\n",
       "\n",
       "    .dataframe tbody tr th {\n",
       "        vertical-align: top;\n",
       "    }\n",
       "\n",
       "    .dataframe thead th {\n",
       "        text-align: right;\n",
       "    }\n",
       "</style>\n",
       "<table border=\"1\" class=\"dataframe\">\n",
       "  <thead>\n",
       "    <tr style=\"text-align: right;\">\n",
       "      <th></th>\n",
       "      <th>r_number</th>\n",
       "      <th>speed (m/s)</th>\n",
       "      <th>weight (kg)</th>\n",
       "      <th>qualified</th>\n",
       "    </tr>\n",
       "  </thead>\n",
       "  <tbody>\n",
       "    <tr>\n",
       "      <th>0</th>\n",
       "      <td>1</td>\n",
       "      <td>2.50</td>\n",
       "      <td>600</td>\n",
       "      <td>0</td>\n",
       "    </tr>\n",
       "    <tr>\n",
       "      <th>1</th>\n",
       "      <td>2</td>\n",
       "      <td>3.75</td>\n",
       "      <td>800</td>\n",
       "      <td>0</td>\n",
       "    </tr>\n",
       "    <tr>\n",
       "      <th>2</th>\n",
       "      <td>3</td>\n",
       "      <td>2.25</td>\n",
       "      <td>550</td>\n",
       "      <td>0</td>\n",
       "    </tr>\n",
       "    <tr>\n",
       "      <th>3</th>\n",
       "      <td>4</td>\n",
       "      <td>3.25</td>\n",
       "      <td>825</td>\n",
       "      <td>0</td>\n",
       "    </tr>\n",
       "    <tr>\n",
       "      <th>4</th>\n",
       "      <td>5</td>\n",
       "      <td>2.75</td>\n",
       "      <td>750</td>\n",
       "      <td>0</td>\n",
       "    </tr>\n",
       "  </tbody>\n",
       "</table>\n",
       "</div>"
      ],
      "text/plain": [
       "   r_number  speed (m/s)  weight (kg)  qualified\n",
       "0         1         2.50          600          0\n",
       "1         2         3.75          800          0\n",
       "2         3         2.25          550          0\n",
       "3         4         3.25          825          0\n",
       "4         5         2.75          750          0"
      ]
     },
     "execution_count": 4,
     "metadata": {},
     "output_type": "execute_result"
    }
   ],
   "source": [
    "# since the model only interprets numerical data, we replace the qualified column with numerical values\n",
    "df['qualified'] = df['qualified'].replace(['No', 'Yes'], [0,1])\n",
    "df.head()"
   ]
  },
  {
   "cell_type": "code",
   "execution_count": 5,
   "id": "6db0ec9a",
   "metadata": {},
   "outputs": [
    {
     "name": "stdout",
     "output_type": "stream",
     "text": [
      "[[  2.5  600.  ]\n",
      " [  3.75 800.  ]\n",
      " [  2.25 550.  ]\n",
      " [  3.25 825.  ]\n",
      " [  2.75 750.  ]\n",
      " [  4.5  500.  ]\n",
      " [  3.5  525.  ]\n",
      " [  3.   325.  ]\n",
      " [  4.   400.  ]\n",
      " [  4.25 375.  ]\n",
      " [  2.   200.  ]\n",
      " [  5.   250.  ]\n",
      " [  8.25 850.  ]\n",
      " [  5.75 875.  ]\n",
      " [  4.75 625.  ]\n",
      " [  5.5  675.  ]\n",
      " [  5.25 950.  ]\n",
      " [  7.   425.  ]\n",
      " [  7.5  800.  ]\n",
      " [  7.25 575.  ]]\n"
     ]
    }
   ],
   "source": [
    "# taking the X and y values\n",
    "X = df.iloc[:, [1,2]].values\n",
    "print(X)"
   ]
  },
  {
   "cell_type": "code",
   "execution_count": 6,
   "id": "aa4ee496",
   "metadata": {},
   "outputs": [
    {
     "data": {
      "text/plain": [
       "array([0, 0, 0, 0, 0, 0, 0, 0, 0, 0, 0, 0, 0, 1, 1, 1, 1, 1, 1, 1],\n",
       "      dtype=int64)"
      ]
     },
     "execution_count": 6,
     "metadata": {},
     "output_type": "execute_result"
    }
   ],
   "source": [
    "y = df.iloc[:,-1].values\n",
    "y"
   ]
  },
  {
   "cell_type": "code",
   "execution_count": 7,
   "id": "c378ab6c",
   "metadata": {},
   "outputs": [],
   "source": [
    "# import the needed sklearn libraries\n",
    "from sklearn.neighbors import KNeighborsClassifier  # importing the classifier\n",
    "from sklearn import metrics  # import the needed metrics to calculate the confusion matrix and accuracy\n",
    "from sklearn.preprocessing import StandardScaler  # to scale the X values\n",
    "from sklearn.model_selection import train_test_split  # splitting the data into training and testing sets"
   ]
  },
  {
   "cell_type": "code",
   "execution_count": 22,
   "id": "fee0a9a6",
   "metadata": {},
   "outputs": [],
   "source": [
    "# splitting X and y data\n",
    "X_train, X_test, y_train, y_test = train_test_split(X, y, test_size=0.2, random_state=0)"
   ]
  },
  {
   "cell_type": "code",
   "execution_count": 26,
   "id": "e643c485",
   "metadata": {},
   "outputs": [],
   "source": [
    "# scaling the X values\n",
    "scaler = StandardScaler()\n",
    "X_train = scaler.fit_transform(X_train)\n",
    "X_test = scaler.fit_transform(X_test)"
   ]
  },
  {
   "cell_type": "code",
   "execution_count": 27,
   "id": "cf2d850b",
   "metadata": {},
   "outputs": [
    {
     "name": "stdout",
     "output_type": "stream",
     "text": [
      "[[-1.37320266 -1.71372656]\n",
      " [ 1.55629635 -0.70234695]\n",
      " [-0.49435296 -0.2528449 ]\n",
      " [ 0.8239216   1.32041227]\n",
      " [-0.93377781  0.75853471]\n",
      " [-1.22672771 -0.14046939]\n",
      " [ 0.09154684 -0.36522041]\n",
      " [ 0.23802179  0.19665715]\n",
      " [-0.05492811 -0.92709797]\n",
      " [-0.78730286 -1.151849  ]\n",
      " [ 0.5309717   1.6575388 ]\n",
      " [ 0.38449675 -1.48897554]\n",
      " [-0.64082791  1.09566124]\n",
      " [-1.08025276  0.08428163]\n",
      " [ 0.67744665  0.42140817]\n",
      " [ 2.2886711   1.20803676]]\n"
     ]
    }
   ],
   "source": [
    "print(X_train)"
   ]
  },
  {
   "cell_type": "code",
   "execution_count": 28,
   "id": "8cf1d63f",
   "metadata": {},
   "outputs": [
    {
     "name": "stdout",
     "output_type": "stream",
     "text": [
      "[[ 1.06870575  0.92976   ]\n",
      " [-1.06870575  0.92976   ]\n",
      " [ 0.92621165 -0.4090944 ]\n",
      " [-0.92621165 -1.45042561]]\n"
     ]
    }
   ],
   "source": [
    "print(X_test)"
   ]
  },
  {
   "cell_type": "code",
   "execution_count": 37,
   "id": "e0ca74d5",
   "metadata": {},
   "outputs": [],
   "source": [
    "# create, train and test the model\n",
    "K = []\n",
    "train = []\n",
    "test = []\n",
    "score = {}\n",
    "accuracy = []\n",
    "for k in range(1,16):\n",
    "    K.append(k)                                               # fill the list with the k values (1-10)\n",
    "    clf = KNeighborsClassifier(n_neighbors=k)                 # create the model\n",
    "    clf.fit(X_train, y_train)                                 # train the model\n",
    "    \n",
    "    y_pred = clf.predict(X_test)                              # testing the model\n",
    "   \n",
    "    train_score = clf.score(X_train, y_train)                 # get the training score\n",
    "    test_score = clf.score(X_test, y_test)                    # get the test score\n",
    "    acc = metrics.accuracy_score(y_test, y_pred)              # get the accuracy (which is same as test score)\n",
    "    \n",
    "    train.append(train_score)                                 # put the train scores in the train list\n",
    "    test.append(test_score)                                   # put the test scores in the test list\n",
    "    score[k] = [train_score, test_score]                      # placing it in the scores dictionary\n",
    "    accuracy.append(acc)                                      # placing it in the accuracy list"
   ]
  },
  {
   "cell_type": "code",
   "execution_count": 38,
   "id": "3b0d6456",
   "metadata": {},
   "outputs": [
    {
     "data": {
      "text/plain": [
       "[1.0,\n",
       " 0.9375,\n",
       " 0.9375,\n",
       " 0.8125,\n",
       " 0.875,\n",
       " 0.8125,\n",
       " 0.8125,\n",
       " 0.6875,\n",
       " 0.6875,\n",
       " 0.6875,\n",
       " 0.6875,\n",
       " 0.6875,\n",
       " 0.6875,\n",
       " 0.6875,\n",
       " 0.6875]"
      ]
     },
     "execution_count": 38,
     "metadata": {},
     "output_type": "execute_result"
    }
   ],
   "source": [
    "train"
   ]
  },
  {
   "cell_type": "code",
   "execution_count": 39,
   "id": "48f3555a",
   "metadata": {},
   "outputs": [
    {
     "data": {
      "text/plain": [
       "[1.0,\n",
       " 0.75,\n",
       " 1.0,\n",
       " 1.0,\n",
       " 1.0,\n",
       " 0.75,\n",
       " 0.75,\n",
       " 0.75,\n",
       " 0.75,\n",
       " 0.5,\n",
       " 0.5,\n",
       " 0.5,\n",
       " 0.5,\n",
       " 0.5,\n",
       " 0.5]"
      ]
     },
     "execution_count": 39,
     "metadata": {},
     "output_type": "execute_result"
    }
   ],
   "source": [
    "test"
   ]
  },
  {
   "cell_type": "code",
   "execution_count": 40,
   "id": "181598fe",
   "metadata": {},
   "outputs": [
    {
     "data": {
      "text/plain": [
       "[1.0,\n",
       " 0.75,\n",
       " 1.0,\n",
       " 1.0,\n",
       " 1.0,\n",
       " 0.75,\n",
       " 0.75,\n",
       " 0.75,\n",
       " 0.75,\n",
       " 0.5,\n",
       " 0.5,\n",
       " 0.5,\n",
       " 0.5,\n",
       " 0.5,\n",
       " 0.5]"
      ]
     },
     "execution_count": 40,
     "metadata": {},
     "output_type": "execute_result"
    }
   ],
   "source": [
    "accuracy"
   ]
  },
  {
   "cell_type": "code",
   "execution_count": 41,
   "id": "0442e8b8",
   "metadata": {},
   "outputs": [
    {
     "name": "stdout",
     "output_type": "stream",
     "text": [
      "1:[1.0, 1.0]\n",
      "2:[0.9375, 0.75]\n",
      "3:[0.9375, 1.0]\n",
      "4:[0.8125, 1.0]\n",
      "5:[0.875, 1.0]\n",
      "6:[0.8125, 0.75]\n",
      "7:[0.8125, 0.75]\n",
      "8:[0.6875, 0.75]\n",
      "9:[0.6875, 0.75]\n",
      "10:[0.6875, 0.5]\n",
      "11:[0.6875, 0.5]\n",
      "12:[0.6875, 0.5]\n",
      "13:[0.6875, 0.5]\n",
      "14:[0.6875, 0.5]\n",
      "15:[0.6875, 0.5]\n"
     ]
    }
   ],
   "source": [
    "for keys, values in score.items():\n",
    "    print(f'{keys}:{values}')"
   ]
  },
  {
   "cell_type": "code",
   "execution_count": 42,
   "id": "f10dea87",
   "metadata": {},
   "outputs": [
    {
     "data": {
      "image/png": "[encoded data removed]",
      "text/plain": [
       "<Figure size 640x480 with 1 Axes>"
      ]
     },
     "metadata": {},
     "output_type": "display_data"
    }
   ],
   "source": [
    "# plotting the strip plot for training values\n",
    "sns.stripplot(x=K, y=train)\n",
    "plt.xlabel('values of k')\n",
    "plt.ylabel('training scores')\n",
    "plt.show()"
   ]
  },
  {
   "cell_type": "code",
   "execution_count": 43,
   "id": "437cb423",
   "metadata": {},
   "outputs": [
    {
     "data": {
      "image/png": "[encoded data removed]",
      "text/plain": [
       "<Figure size 640x480 with 1 Axes>"
      ]
     },
     "metadata": {},
     "output_type": "display_data"
    }
   ],
   "source": [
    "# plotting the strip plot for test values\n",
    "sns.stripplot(x=K, y=test)\n",
    "plt.xlabel('values of k')\n",
    "plt.ylabel('test scores')\n",
    "plt.show()"
   ]
  },
  {
   "cell_type": "code",
   "execution_count": 44,
   "id": "2db1b62b",
   "metadata": {},
   "outputs": [
    {
     "data": {
      "image/png": "[encoded data removed]",
      "text/plain": [
       "<Figure size 640x480 with 1 Axes>"
      ]
     },
     "metadata": {},
     "output_type": "display_data"
    }
   ],
   "source": [
    "# overlapping plot of training and test values\n",
    "plt.scatter(K, train, color='r')\n",
    "plt.scatter(K, test, color='b')\n",
    "plt.xlabel('values of k')\n",
    "plt.ylabel('scores')\n",
    "plt.legend(['training', 'test'])\n",
    "plt.show()"
   ]
  },
  {
   "cell_type": "code",
   "execution_count": 45,
   "id": "a15dc029",
   "metadata": {},
   "outputs": [
    {
     "data": {
      "image/png": "[encoded data removed]",
      "text/plain": [
       "<Figure size 640x480 with 1 Axes>"
      ]
     },
     "metadata": {},
     "output_type": "display_data"
    }
   ],
   "source": [
    "plt.scatter(K,accuracy, color='k')\n",
    "plt.show()"
   ]
  },
  {
   "cell_type": "markdown",
   "id": "014b1828",
   "metadata": {},
   "source": [
    "# from the graph above, the optimum k values are 1, 3, 4, and 5"
   ]
  },
  {
   "cell_type": "code",
   "execution_count": 48,
   "id": "35b99d22",
   "metadata": {},
   "outputs": [
    {
     "name": "stdout",
     "output_type": "stream",
     "text": [
      "[array([1], dtype=int64), array([1], dtype=int64), array([0], dtype=int64)]\n"
     ]
    }
   ],
   "source": [
    "new_k = [1,3,5]    # k values going to be used\n",
    "x_new = [[5.20, 500]]\n",
    "y_new = []\n",
    "for k in new_k:\n",
    "    clf_2 = KNeighborsClassifier(n_neighbors=k)\n",
    "    clf_2.fit(X_train, y_train)\n",
    "    pred_y = clf_2.predict(x_new)\n",
    "    y_new.append(pred_y)\n",
    "print(y_new)"
   ]
  }
 ],
 "metadata": {
  "kernelspec": {
   "display_name": "Python 3 (ipykernel)",
   "language": "python",
   "name": "python3"
  },
  "language_info": {
   "codemirror_mode": {
    "name": "ipython",
    "version": 3
   },
   "file_extension": ".py",
   "mimetype": "text/x-python",
   "name": "python",
   "nbconvert_exporter": "python",
   "pygments_lexer": "ipython3",
   "version": "3.11.0"
  }
 },
 "nbformat": 4,
 "nbformat_minor": 5
}
